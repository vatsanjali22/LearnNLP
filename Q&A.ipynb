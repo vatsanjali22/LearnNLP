{
  "nbformat": 4,
  "nbformat_minor": 0,
  "metadata": {
    "colab": {
      "name": "Q&A.ipynb",
      "provenance": [],
      "collapsed_sections": []
    },
    "kernelspec": {
      "name": "python3",
      "display_name": "Python 3"
    },
    "language_info": {
      "name": "python"
    },
    "widgets": {
      "application/vnd.jupyter.widget-state+json": {
        "41a86957abfd434fafad344337e5c30d": {
          "model_module": "@jupyter-widgets/controls",
          "model_name": "HBoxModel",
          "state": {
            "_view_name": "HBoxView",
            "_dom_classes": [],
            "_model_name": "HBoxModel",
            "_view_module": "@jupyter-widgets/controls",
            "_model_module_version": "1.5.0",
            "_view_count": null,
            "_view_module_version": "1.5.0",
            "box_style": "",
            "layout": "IPY_MODEL_7648d0c6534c42cba9adfa04e913d06a",
            "_model_module": "@jupyter-widgets/controls",
            "children": [
              "IPY_MODEL_29928838719a4c9ba1b8b201f9adbe8d",
              "IPY_MODEL_293b9475c07a4654af24a2647a0a9545"
            ]
          }
        },
        "7648d0c6534c42cba9adfa04e913d06a": {
          "model_module": "@jupyter-widgets/base",
          "model_name": "LayoutModel",
          "state": {
            "_view_name": "LayoutView",
            "grid_template_rows": null,
            "right": null,
            "justify_content": null,
            "_view_module": "@jupyter-widgets/base",
            "overflow": null,
            "_model_module_version": "1.2.0",
            "_view_count": null,
            "flex_flow": null,
            "width": null,
            "min_width": null,
            "border": null,
            "align_items": null,
            "bottom": null,
            "_model_module": "@jupyter-widgets/base",
            "top": null,
            "grid_column": null,
            "overflow_y": null,
            "overflow_x": null,
            "grid_auto_flow": null,
            "grid_area": null,
            "grid_template_columns": null,
            "flex": null,
            "_model_name": "LayoutModel",
            "justify_items": null,
            "grid_row": null,
            "max_height": null,
            "align_content": null,
            "visibility": null,
            "align_self": null,
            "height": null,
            "min_height": null,
            "padding": null,
            "grid_auto_rows": null,
            "grid_gap": null,
            "max_width": null,
            "order": null,
            "_view_module_version": "1.2.0",
            "grid_template_areas": null,
            "object_position": null,
            "object_fit": null,
            "grid_auto_columns": null,
            "margin": null,
            "display": null,
            "left": null
          }
        },
        "29928838719a4c9ba1b8b201f9adbe8d": {
          "model_module": "@jupyter-widgets/controls",
          "model_name": "FloatProgressModel",
          "state": {
            "_view_name": "ProgressView",
            "style": "IPY_MODEL_1cc1d3241bfe4d89a90f53a63121f893",
            "_dom_classes": [],
            "description": "Downloading: 100%",
            "_model_name": "FloatProgressModel",
            "bar_style": "success",
            "max": 508,
            "_view_module": "@jupyter-widgets/controls",
            "_model_module_version": "1.5.0",
            "value": 508,
            "_view_count": null,
            "_view_module_version": "1.5.0",
            "orientation": "horizontal",
            "min": 0,
            "description_tooltip": null,
            "_model_module": "@jupyter-widgets/controls",
            "layout": "IPY_MODEL_cbe81fbceabb4a179f91eed70eca1955"
          }
        },
        "293b9475c07a4654af24a2647a0a9545": {
          "model_module": "@jupyter-widgets/controls",
          "model_name": "HTMLModel",
          "state": {
            "_view_name": "HTMLView",
            "style": "IPY_MODEL_659c1515cb9745859bb1d5f717d82008",
            "_dom_classes": [],
            "description": "",
            "_model_name": "HTMLModel",
            "placeholder": "​",
            "_view_module": "@jupyter-widgets/controls",
            "_model_module_version": "1.5.0",
            "value": " 508/508 [00:13&lt;00:00, 37.7B/s]",
            "_view_count": null,
            "_view_module_version": "1.5.0",
            "description_tooltip": null,
            "_model_module": "@jupyter-widgets/controls",
            "layout": "IPY_MODEL_9da673631d8247cf85ed14733693fe7f"
          }
        },
        "1cc1d3241bfe4d89a90f53a63121f893": {
          "model_module": "@jupyter-widgets/controls",
          "model_name": "ProgressStyleModel",
          "state": {
            "_view_name": "StyleView",
            "_model_name": "ProgressStyleModel",
            "description_width": "initial",
            "_view_module": "@jupyter-widgets/base",
            "_model_module_version": "1.5.0",
            "_view_count": null,
            "_view_module_version": "1.2.0",
            "bar_color": null,
            "_model_module": "@jupyter-widgets/controls"
          }
        },
        "cbe81fbceabb4a179f91eed70eca1955": {
          "model_module": "@jupyter-widgets/base",
          "model_name": "LayoutModel",
          "state": {
            "_view_name": "LayoutView",
            "grid_template_rows": null,
            "right": null,
            "justify_content": null,
            "_view_module": "@jupyter-widgets/base",
            "overflow": null,
            "_model_module_version": "1.2.0",
            "_view_count": null,
            "flex_flow": null,
            "width": null,
            "min_width": null,
            "border": null,
            "align_items": null,
            "bottom": null,
            "_model_module": "@jupyter-widgets/base",
            "top": null,
            "grid_column": null,
            "overflow_y": null,
            "overflow_x": null,
            "grid_auto_flow": null,
            "grid_area": null,
            "grid_template_columns": null,
            "flex": null,
            "_model_name": "LayoutModel",
            "justify_items": null,
            "grid_row": null,
            "max_height": null,
            "align_content": null,
            "visibility": null,
            "align_self": null,
            "height": null,
            "min_height": null,
            "padding": null,
            "grid_auto_rows": null,
            "grid_gap": null,
            "max_width": null,
            "order": null,
            "_view_module_version": "1.2.0",
            "grid_template_areas": null,
            "object_position": null,
            "object_fit": null,
            "grid_auto_columns": null,
            "margin": null,
            "display": null,
            "left": null
          }
        },
        "659c1515cb9745859bb1d5f717d82008": {
          "model_module": "@jupyter-widgets/controls",
          "model_name": "DescriptionStyleModel",
          "state": {
            "_view_name": "StyleView",
            "_model_name": "DescriptionStyleModel",
            "description_width": "",
            "_view_module": "@jupyter-widgets/base",
            "_model_module_version": "1.5.0",
            "_view_count": null,
            "_view_module_version": "1.2.0",
            "_model_module": "@jupyter-widgets/controls"
          }
        },
        "9da673631d8247cf85ed14733693fe7f": {
          "model_module": "@jupyter-widgets/base",
          "model_name": "LayoutModel",
          "state": {
            "_view_name": "LayoutView",
            "grid_template_rows": null,
            "right": null,
            "justify_content": null,
            "_view_module": "@jupyter-widgets/base",
            "overflow": null,
            "_model_module_version": "1.2.0",
            "_view_count": null,
            "flex_flow": null,
            "width": null,
            "min_width": null,
            "border": null,
            "align_items": null,
            "bottom": null,
            "_model_module": "@jupyter-widgets/base",
            "top": null,
            "grid_column": null,
            "overflow_y": null,
            "overflow_x": null,
            "grid_auto_flow": null,
            "grid_area": null,
            "grid_template_columns": null,
            "flex": null,
            "_model_name": "LayoutModel",
            "justify_items": null,
            "grid_row": null,
            "max_height": null,
            "align_content": null,
            "visibility": null,
            "align_self": null,
            "height": null,
            "min_height": null,
            "padding": null,
            "grid_auto_rows": null,
            "grid_gap": null,
            "max_width": null,
            "order": null,
            "_view_module_version": "1.2.0",
            "grid_template_areas": null,
            "object_position": null,
            "object_fit": null,
            "grid_auto_columns": null,
            "margin": null,
            "display": null,
            "left": null
          }
        },
        "1c1b75c5b2dc49b2922550c9b8fffc4e": {
          "model_module": "@jupyter-widgets/controls",
          "model_name": "HBoxModel",
          "state": {
            "_view_name": "HBoxView",
            "_dom_classes": [],
            "_model_name": "HBoxModel",
            "_view_module": "@jupyter-widgets/controls",
            "_model_module_version": "1.5.0",
            "_view_count": null,
            "_view_module_version": "1.5.0",
            "box_style": "",
            "layout": "IPY_MODEL_81cc000ca5eb4642b91d670be203c77c",
            "_model_module": "@jupyter-widgets/controls",
            "children": [
              "IPY_MODEL_560cf62124014d60b48fd4664a99d0bd",
              "IPY_MODEL_fbe63a2cfa604e3eb60c7c77c6d8c25b"
            ]
          }
        },
        "81cc000ca5eb4642b91d670be203c77c": {
          "model_module": "@jupyter-widgets/base",
          "model_name": "LayoutModel",
          "state": {
            "_view_name": "LayoutView",
            "grid_template_rows": null,
            "right": null,
            "justify_content": null,
            "_view_module": "@jupyter-widgets/base",
            "overflow": null,
            "_model_module_version": "1.2.0",
            "_view_count": null,
            "flex_flow": null,
            "width": null,
            "min_width": null,
            "border": null,
            "align_items": null,
            "bottom": null,
            "_model_module": "@jupyter-widgets/base",
            "top": null,
            "grid_column": null,
            "overflow_y": null,
            "overflow_x": null,
            "grid_auto_flow": null,
            "grid_area": null,
            "grid_template_columns": null,
            "flex": null,
            "_model_name": "LayoutModel",
            "justify_items": null,
            "grid_row": null,
            "max_height": null,
            "align_content": null,
            "visibility": null,
            "align_self": null,
            "height": null,
            "min_height": null,
            "padding": null,
            "grid_auto_rows": null,
            "grid_gap": null,
            "max_width": null,
            "order": null,
            "_view_module_version": "1.2.0",
            "grid_template_areas": null,
            "object_position": null,
            "object_fit": null,
            "grid_auto_columns": null,
            "margin": null,
            "display": null,
            "left": null
          }
        },
        "560cf62124014d60b48fd4664a99d0bd": {
          "model_module": "@jupyter-widgets/controls",
          "model_name": "FloatProgressModel",
          "state": {
            "_view_name": "ProgressView",
            "style": "IPY_MODEL_86ac152d89d8492fa03255cf13889b50",
            "_dom_classes": [],
            "description": "Downloading: 100%",
            "_model_name": "FloatProgressModel",
            "bar_style": "success",
            "max": 433294681,
            "_view_module": "@jupyter-widgets/controls",
            "_model_module_version": "1.5.0",
            "value": 433294681,
            "_view_count": null,
            "_view_module_version": "1.5.0",
            "orientation": "horizontal",
            "min": 0,
            "description_tooltip": null,
            "_model_module": "@jupyter-widgets/controls",
            "layout": "IPY_MODEL_70b46c3e0bf743e384786b6d88c96f72"
          }
        },
        "fbe63a2cfa604e3eb60c7c77c6d8c25b": {
          "model_module": "@jupyter-widgets/controls",
          "model_name": "HTMLModel",
          "state": {
            "_view_name": "HTMLView",
            "style": "IPY_MODEL_7675f64f37ef451c8f400d82d730608f",
            "_dom_classes": [],
            "description": "",
            "_model_name": "HTMLModel",
            "placeholder": "​",
            "_view_module": "@jupyter-widgets/controls",
            "_model_module_version": "1.5.0",
            "value": " 433M/433M [00:13&lt;00:00, 33.0MB/s]",
            "_view_count": null,
            "_view_module_version": "1.5.0",
            "description_tooltip": null,
            "_model_module": "@jupyter-widgets/controls",
            "layout": "IPY_MODEL_4047bae6f0d14c558d15264a2e38f241"
          }
        },
        "86ac152d89d8492fa03255cf13889b50": {
          "model_module": "@jupyter-widgets/controls",
          "model_name": "ProgressStyleModel",
          "state": {
            "_view_name": "StyleView",
            "_model_name": "ProgressStyleModel",
            "description_width": "initial",
            "_view_module": "@jupyter-widgets/base",
            "_model_module_version": "1.5.0",
            "_view_count": null,
            "_view_module_version": "1.2.0",
            "bar_color": null,
            "_model_module": "@jupyter-widgets/controls"
          }
        },
        "70b46c3e0bf743e384786b6d88c96f72": {
          "model_module": "@jupyter-widgets/base",
          "model_name": "LayoutModel",
          "state": {
            "_view_name": "LayoutView",
            "grid_template_rows": null,
            "right": null,
            "justify_content": null,
            "_view_module": "@jupyter-widgets/base",
            "overflow": null,
            "_model_module_version": "1.2.0",
            "_view_count": null,
            "flex_flow": null,
            "width": null,
            "min_width": null,
            "border": null,
            "align_items": null,
            "bottom": null,
            "_model_module": "@jupyter-widgets/base",
            "top": null,
            "grid_column": null,
            "overflow_y": null,
            "overflow_x": null,
            "grid_auto_flow": null,
            "grid_area": null,
            "grid_template_columns": null,
            "flex": null,
            "_model_name": "LayoutModel",
            "justify_items": null,
            "grid_row": null,
            "max_height": null,
            "align_content": null,
            "visibility": null,
            "align_self": null,
            "height": null,
            "min_height": null,
            "padding": null,
            "grid_auto_rows": null,
            "grid_gap": null,
            "max_width": null,
            "order": null,
            "_view_module_version": "1.2.0",
            "grid_template_areas": null,
            "object_position": null,
            "object_fit": null,
            "grid_auto_columns": null,
            "margin": null,
            "display": null,
            "left": null
          }
        },
        "7675f64f37ef451c8f400d82d730608f": {
          "model_module": "@jupyter-widgets/controls",
          "model_name": "DescriptionStyleModel",
          "state": {
            "_view_name": "StyleView",
            "_model_name": "DescriptionStyleModel",
            "description_width": "",
            "_view_module": "@jupyter-widgets/base",
            "_model_module_version": "1.5.0",
            "_view_count": null,
            "_view_module_version": "1.2.0",
            "_model_module": "@jupyter-widgets/controls"
          }
        },
        "4047bae6f0d14c558d15264a2e38f241": {
          "model_module": "@jupyter-widgets/base",
          "model_name": "LayoutModel",
          "state": {
            "_view_name": "LayoutView",
            "grid_template_rows": null,
            "right": null,
            "justify_content": null,
            "_view_module": "@jupyter-widgets/base",
            "overflow": null,
            "_model_module_version": "1.2.0",
            "_view_count": null,
            "flex_flow": null,
            "width": null,
            "min_width": null,
            "border": null,
            "align_items": null,
            "bottom": null,
            "_model_module": "@jupyter-widgets/base",
            "top": null,
            "grid_column": null,
            "overflow_y": null,
            "overflow_x": null,
            "grid_auto_flow": null,
            "grid_area": null,
            "grid_template_columns": null,
            "flex": null,
            "_model_name": "LayoutModel",
            "justify_items": null,
            "grid_row": null,
            "max_height": null,
            "align_content": null,
            "visibility": null,
            "align_self": null,
            "height": null,
            "min_height": null,
            "padding": null,
            "grid_auto_rows": null,
            "grid_gap": null,
            "max_width": null,
            "order": null,
            "_view_module_version": "1.2.0",
            "grid_template_areas": null,
            "object_position": null,
            "object_fit": null,
            "grid_auto_columns": null,
            "margin": null,
            "display": null,
            "left": null
          }
        },
        "dd758a9aa190484bb7ff2cec5c728847": {
          "model_module": "@jupyter-widgets/controls",
          "model_name": "HBoxModel",
          "state": {
            "_view_name": "HBoxView",
            "_dom_classes": [],
            "_model_name": "HBoxModel",
            "_view_module": "@jupyter-widgets/controls",
            "_model_module_version": "1.5.0",
            "_view_count": null,
            "_view_module_version": "1.5.0",
            "box_style": "",
            "layout": "IPY_MODEL_b62b0b09169b41e0b17ee69e1e840c48",
            "_model_module": "@jupyter-widgets/controls",
            "children": [
              "IPY_MODEL_b430a98898ea45f68a0e9c5fb6fe5c5a",
              "IPY_MODEL_430ba1df21394de0859f3671c5543c13"
            ]
          }
        },
        "b62b0b09169b41e0b17ee69e1e840c48": {
          "model_module": "@jupyter-widgets/base",
          "model_name": "LayoutModel",
          "state": {
            "_view_name": "LayoutView",
            "grid_template_rows": null,
            "right": null,
            "justify_content": null,
            "_view_module": "@jupyter-widgets/base",
            "overflow": null,
            "_model_module_version": "1.2.0",
            "_view_count": null,
            "flex_flow": null,
            "width": null,
            "min_width": null,
            "border": null,
            "align_items": null,
            "bottom": null,
            "_model_module": "@jupyter-widgets/base",
            "top": null,
            "grid_column": null,
            "overflow_y": null,
            "overflow_x": null,
            "grid_auto_flow": null,
            "grid_area": null,
            "grid_template_columns": null,
            "flex": null,
            "_model_name": "LayoutModel",
            "justify_items": null,
            "grid_row": null,
            "max_height": null,
            "align_content": null,
            "visibility": null,
            "align_self": null,
            "height": null,
            "min_height": null,
            "padding": null,
            "grid_auto_rows": null,
            "grid_gap": null,
            "max_width": null,
            "order": null,
            "_view_module_version": "1.2.0",
            "grid_template_areas": null,
            "object_position": null,
            "object_fit": null,
            "grid_auto_columns": null,
            "margin": null,
            "display": null,
            "left": null
          }
        },
        "b430a98898ea45f68a0e9c5fb6fe5c5a": {
          "model_module": "@jupyter-widgets/controls",
          "model_name": "FloatProgressModel",
          "state": {
            "_view_name": "ProgressView",
            "style": "IPY_MODEL_b9919d4788364066bc75f4871b4faade",
            "_dom_classes": [],
            "description": "Downloading: 100%",
            "_model_name": "FloatProgressModel",
            "bar_style": "success",
            "max": 213450,
            "_view_module": "@jupyter-widgets/controls",
            "_model_module_version": "1.5.0",
            "value": 213450,
            "_view_count": null,
            "_view_module_version": "1.5.0",
            "orientation": "horizontal",
            "min": 0,
            "description_tooltip": null,
            "_model_module": "@jupyter-widgets/controls",
            "layout": "IPY_MODEL_65122ddd732a4a3f8e7d3e560989b8d6"
          }
        },
        "430ba1df21394de0859f3671c5543c13": {
          "model_module": "@jupyter-widgets/controls",
          "model_name": "HTMLModel",
          "state": {
            "_view_name": "HTMLView",
            "style": "IPY_MODEL_08bafab8367b4521b4d6cc1a44f5713f",
            "_dom_classes": [],
            "description": "",
            "_model_name": "HTMLModel",
            "placeholder": "​",
            "_view_module": "@jupyter-widgets/controls",
            "_model_module_version": "1.5.0",
            "value": " 213k/213k [00:00&lt;00:00, 1.32MB/s]",
            "_view_count": null,
            "_view_module_version": "1.5.0",
            "description_tooltip": null,
            "_model_module": "@jupyter-widgets/controls",
            "layout": "IPY_MODEL_f60286a56a3d43e4aa546d544bc0a4f8"
          }
        },
        "b9919d4788364066bc75f4871b4faade": {
          "model_module": "@jupyter-widgets/controls",
          "model_name": "ProgressStyleModel",
          "state": {
            "_view_name": "StyleView",
            "_model_name": "ProgressStyleModel",
            "description_width": "initial",
            "_view_module": "@jupyter-widgets/base",
            "_model_module_version": "1.5.0",
            "_view_count": null,
            "_view_module_version": "1.2.0",
            "bar_color": null,
            "_model_module": "@jupyter-widgets/controls"
          }
        },
        "65122ddd732a4a3f8e7d3e560989b8d6": {
          "model_module": "@jupyter-widgets/base",
          "model_name": "LayoutModel",
          "state": {
            "_view_name": "LayoutView",
            "grid_template_rows": null,
            "right": null,
            "justify_content": null,
            "_view_module": "@jupyter-widgets/base",
            "overflow": null,
            "_model_module_version": "1.2.0",
            "_view_count": null,
            "flex_flow": null,
            "width": null,
            "min_width": null,
            "border": null,
            "align_items": null,
            "bottom": null,
            "_model_module": "@jupyter-widgets/base",
            "top": null,
            "grid_column": null,
            "overflow_y": null,
            "overflow_x": null,
            "grid_auto_flow": null,
            "grid_area": null,
            "grid_template_columns": null,
            "flex": null,
            "_model_name": "LayoutModel",
            "justify_items": null,
            "grid_row": null,
            "max_height": null,
            "align_content": null,
            "visibility": null,
            "align_self": null,
            "height": null,
            "min_height": null,
            "padding": null,
            "grid_auto_rows": null,
            "grid_gap": null,
            "max_width": null,
            "order": null,
            "_view_module_version": "1.2.0",
            "grid_template_areas": null,
            "object_position": null,
            "object_fit": null,
            "grid_auto_columns": null,
            "margin": null,
            "display": null,
            "left": null
          }
        },
        "08bafab8367b4521b4d6cc1a44f5713f": {
          "model_module": "@jupyter-widgets/controls",
          "model_name": "DescriptionStyleModel",
          "state": {
            "_view_name": "StyleView",
            "_model_name": "DescriptionStyleModel",
            "description_width": "",
            "_view_module": "@jupyter-widgets/base",
            "_model_module_version": "1.5.0",
            "_view_count": null,
            "_view_module_version": "1.2.0",
            "_model_module": "@jupyter-widgets/controls"
          }
        },
        "f60286a56a3d43e4aa546d544bc0a4f8": {
          "model_module": "@jupyter-widgets/base",
          "model_name": "LayoutModel",
          "state": {
            "_view_name": "LayoutView",
            "grid_template_rows": null,
            "right": null,
            "justify_content": null,
            "_view_module": "@jupyter-widgets/base",
            "overflow": null,
            "_model_module_version": "1.2.0",
            "_view_count": null,
            "flex_flow": null,
            "width": null,
            "min_width": null,
            "border": null,
            "align_items": null,
            "bottom": null,
            "_model_module": "@jupyter-widgets/base",
            "top": null,
            "grid_column": null,
            "overflow_y": null,
            "overflow_x": null,
            "grid_auto_flow": null,
            "grid_area": null,
            "grid_template_columns": null,
            "flex": null,
            "_model_name": "LayoutModel",
            "justify_items": null,
            "grid_row": null,
            "max_height": null,
            "align_content": null,
            "visibility": null,
            "align_self": null,
            "height": null,
            "min_height": null,
            "padding": null,
            "grid_auto_rows": null,
            "grid_gap": null,
            "max_width": null,
            "order": null,
            "_view_module_version": "1.2.0",
            "grid_template_areas": null,
            "object_position": null,
            "object_fit": null,
            "grid_auto_columns": null,
            "margin": null,
            "display": null,
            "left": null
          }
        },
        "eb10dc713dc943e585f635bce3ae3622": {
          "model_module": "@jupyter-widgets/controls",
          "model_name": "HBoxModel",
          "state": {
            "_view_name": "HBoxView",
            "_dom_classes": [],
            "_model_name": "HBoxModel",
            "_view_module": "@jupyter-widgets/controls",
            "_model_module_version": "1.5.0",
            "_view_count": null,
            "_view_module_version": "1.5.0",
            "box_style": "",
            "layout": "IPY_MODEL_7ed1ea5364b14a91a4825cc13001ff95",
            "_model_module": "@jupyter-widgets/controls",
            "children": [
              "IPY_MODEL_775e699028b045ada119fd380d22b052",
              "IPY_MODEL_83234136bbe142beb64489fddde04b98"
            ]
          }
        },
        "7ed1ea5364b14a91a4825cc13001ff95": {
          "model_module": "@jupyter-widgets/base",
          "model_name": "LayoutModel",
          "state": {
            "_view_name": "LayoutView",
            "grid_template_rows": null,
            "right": null,
            "justify_content": null,
            "_view_module": "@jupyter-widgets/base",
            "overflow": null,
            "_model_module_version": "1.2.0",
            "_view_count": null,
            "flex_flow": null,
            "width": null,
            "min_width": null,
            "border": null,
            "align_items": null,
            "bottom": null,
            "_model_module": "@jupyter-widgets/base",
            "top": null,
            "grid_column": null,
            "overflow_y": null,
            "overflow_x": null,
            "grid_auto_flow": null,
            "grid_area": null,
            "grid_template_columns": null,
            "flex": null,
            "_model_name": "LayoutModel",
            "justify_items": null,
            "grid_row": null,
            "max_height": null,
            "align_content": null,
            "visibility": null,
            "align_self": null,
            "height": null,
            "min_height": null,
            "padding": null,
            "grid_auto_rows": null,
            "grid_gap": null,
            "max_width": null,
            "order": null,
            "_view_module_version": "1.2.0",
            "grid_template_areas": null,
            "object_position": null,
            "object_fit": null,
            "grid_auto_columns": null,
            "margin": null,
            "display": null,
            "left": null
          }
        },
        "775e699028b045ada119fd380d22b052": {
          "model_module": "@jupyter-widgets/controls",
          "model_name": "FloatProgressModel",
          "state": {
            "_view_name": "ProgressView",
            "style": "IPY_MODEL_e78df8bdb814407f9b94bc5ea5469a37",
            "_dom_classes": [],
            "description": "Downloading: 100%",
            "_model_name": "FloatProgressModel",
            "bar_style": "success",
            "max": 112,
            "_view_module": "@jupyter-widgets/controls",
            "_model_module_version": "1.5.0",
            "value": 112,
            "_view_count": null,
            "_view_module_version": "1.5.0",
            "orientation": "horizontal",
            "min": 0,
            "description_tooltip": null,
            "_model_module": "@jupyter-widgets/controls",
            "layout": "IPY_MODEL_3955a8c8b9934253a560495854f71985"
          }
        },
        "83234136bbe142beb64489fddde04b98": {
          "model_module": "@jupyter-widgets/controls",
          "model_name": "HTMLModel",
          "state": {
            "_view_name": "HTMLView",
            "style": "IPY_MODEL_2c172f229955492f9c102e3c4cb446bd",
            "_dom_classes": [],
            "description": "",
            "_model_name": "HTMLModel",
            "placeholder": "​",
            "_view_module": "@jupyter-widgets/controls",
            "_model_module_version": "1.5.0",
            "value": " 112/112 [03:26&lt;00:00, 1.85s/B]",
            "_view_count": null,
            "_view_module_version": "1.5.0",
            "description_tooltip": null,
            "_model_module": "@jupyter-widgets/controls",
            "layout": "IPY_MODEL_3205be2b20a54394a54601e028d2ba7f"
          }
        },
        "e78df8bdb814407f9b94bc5ea5469a37": {
          "model_module": "@jupyter-widgets/controls",
          "model_name": "ProgressStyleModel",
          "state": {
            "_view_name": "StyleView",
            "_model_name": "ProgressStyleModel",
            "description_width": "initial",
            "_view_module": "@jupyter-widgets/base",
            "_model_module_version": "1.5.0",
            "_view_count": null,
            "_view_module_version": "1.2.0",
            "bar_color": null,
            "_model_module": "@jupyter-widgets/controls"
          }
        },
        "3955a8c8b9934253a560495854f71985": {
          "model_module": "@jupyter-widgets/base",
          "model_name": "LayoutModel",
          "state": {
            "_view_name": "LayoutView",
            "grid_template_rows": null,
            "right": null,
            "justify_content": null,
            "_view_module": "@jupyter-widgets/base",
            "overflow": null,
            "_model_module_version": "1.2.0",
            "_view_count": null,
            "flex_flow": null,
            "width": null,
            "min_width": null,
            "border": null,
            "align_items": null,
            "bottom": null,
            "_model_module": "@jupyter-widgets/base",
            "top": null,
            "grid_column": null,
            "overflow_y": null,
            "overflow_x": null,
            "grid_auto_flow": null,
            "grid_area": null,
            "grid_template_columns": null,
            "flex": null,
            "_model_name": "LayoutModel",
            "justify_items": null,
            "grid_row": null,
            "max_height": null,
            "align_content": null,
            "visibility": null,
            "align_self": null,
            "height": null,
            "min_height": null,
            "padding": null,
            "grid_auto_rows": null,
            "grid_gap": null,
            "max_width": null,
            "order": null,
            "_view_module_version": "1.2.0",
            "grid_template_areas": null,
            "object_position": null,
            "object_fit": null,
            "grid_auto_columns": null,
            "margin": null,
            "display": null,
            "left": null
          }
        },
        "2c172f229955492f9c102e3c4cb446bd": {
          "model_module": "@jupyter-widgets/controls",
          "model_name": "DescriptionStyleModel",
          "state": {
            "_view_name": "StyleView",
            "_model_name": "DescriptionStyleModel",
            "description_width": "",
            "_view_module": "@jupyter-widgets/base",
            "_model_module_version": "1.5.0",
            "_view_count": null,
            "_view_module_version": "1.2.0",
            "_model_module": "@jupyter-widgets/controls"
          }
        },
        "3205be2b20a54394a54601e028d2ba7f": {
          "model_module": "@jupyter-widgets/base",
          "model_name": "LayoutModel",
          "state": {
            "_view_name": "LayoutView",
            "grid_template_rows": null,
            "right": null,
            "justify_content": null,
            "_view_module": "@jupyter-widgets/base",
            "overflow": null,
            "_model_module_version": "1.2.0",
            "_view_count": null,
            "flex_flow": null,
            "width": null,
            "min_width": null,
            "border": null,
            "align_items": null,
            "bottom": null,
            "_model_module": "@jupyter-widgets/base",
            "top": null,
            "grid_column": null,
            "overflow_y": null,
            "overflow_x": null,
            "grid_auto_flow": null,
            "grid_area": null,
            "grid_template_columns": null,
            "flex": null,
            "_model_name": "LayoutModel",
            "justify_items": null,
            "grid_row": null,
            "max_height": null,
            "align_content": null,
            "visibility": null,
            "align_self": null,
            "height": null,
            "min_height": null,
            "padding": null,
            "grid_auto_rows": null,
            "grid_gap": null,
            "max_width": null,
            "order": null,
            "_view_module_version": "1.2.0",
            "grid_template_areas": null,
            "object_position": null,
            "object_fit": null,
            "grid_auto_columns": null,
            "margin": null,
            "display": null,
            "left": null
          }
        },
        "f27d47d973b245a1873fa14841a38763": {
          "model_module": "@jupyter-widgets/controls",
          "model_name": "HBoxModel",
          "state": {
            "_view_name": "HBoxView",
            "_dom_classes": [],
            "_model_name": "HBoxModel",
            "_view_module": "@jupyter-widgets/controls",
            "_model_module_version": "1.5.0",
            "_view_count": null,
            "_view_module_version": "1.5.0",
            "box_style": "",
            "layout": "IPY_MODEL_14f14abb41e64da293261d6c484ad766",
            "_model_module": "@jupyter-widgets/controls",
            "children": [
              "IPY_MODEL_a8c03402c56841bcb4ed91b25104f212",
              "IPY_MODEL_676fd33da1ca440c901513d80b2f8cd3"
            ]
          }
        },
        "14f14abb41e64da293261d6c484ad766": {
          "model_module": "@jupyter-widgets/base",
          "model_name": "LayoutModel",
          "state": {
            "_view_name": "LayoutView",
            "grid_template_rows": null,
            "right": null,
            "justify_content": null,
            "_view_module": "@jupyter-widgets/base",
            "overflow": null,
            "_model_module_version": "1.2.0",
            "_view_count": null,
            "flex_flow": null,
            "width": null,
            "min_width": null,
            "border": null,
            "align_items": null,
            "bottom": null,
            "_model_module": "@jupyter-widgets/base",
            "top": null,
            "grid_column": null,
            "overflow_y": null,
            "overflow_x": null,
            "grid_auto_flow": null,
            "grid_area": null,
            "grid_template_columns": null,
            "flex": null,
            "_model_name": "LayoutModel",
            "justify_items": null,
            "grid_row": null,
            "max_height": null,
            "align_content": null,
            "visibility": null,
            "align_self": null,
            "height": null,
            "min_height": null,
            "padding": null,
            "grid_auto_rows": null,
            "grid_gap": null,
            "max_width": null,
            "order": null,
            "_view_module_version": "1.2.0",
            "grid_template_areas": null,
            "object_position": null,
            "object_fit": null,
            "grid_auto_columns": null,
            "margin": null,
            "display": null,
            "left": null
          }
        },
        "a8c03402c56841bcb4ed91b25104f212": {
          "model_module": "@jupyter-widgets/controls",
          "model_name": "FloatProgressModel",
          "state": {
            "_view_name": "ProgressView",
            "style": "IPY_MODEL_9cd65ff24b844ba8a564274c9830aa76",
            "_dom_classes": [],
            "description": "Downloading: 100%",
            "_model_name": "FloatProgressModel",
            "bar_style": "success",
            "max": 152,
            "_view_module": "@jupyter-widgets/controls",
            "_model_module_version": "1.5.0",
            "value": 152,
            "_view_count": null,
            "_view_module_version": "1.5.0",
            "orientation": "horizontal",
            "min": 0,
            "description_tooltip": null,
            "_model_module": "@jupyter-widgets/controls",
            "layout": "IPY_MODEL_033e17d762134a05acef77e6e3bbc519"
          }
        },
        "676fd33da1ca440c901513d80b2f8cd3": {
          "model_module": "@jupyter-widgets/controls",
          "model_name": "HTMLModel",
          "state": {
            "_view_name": "HTMLView",
            "style": "IPY_MODEL_51e2286042ef4245be7e44f5c3cd6af4",
            "_dom_classes": [],
            "description": "",
            "_model_name": "HTMLModel",
            "placeholder": "​",
            "_view_module": "@jupyter-widgets/controls",
            "_model_module_version": "1.5.0",
            "value": " 152/152 [00:00&lt;00:00, 1.43kB/s]",
            "_view_count": null,
            "_view_module_version": "1.5.0",
            "description_tooltip": null,
            "_model_module": "@jupyter-widgets/controls",
            "layout": "IPY_MODEL_b721767f41634cf599c96a1ba4db59fc"
          }
        },
        "9cd65ff24b844ba8a564274c9830aa76": {
          "model_module": "@jupyter-widgets/controls",
          "model_name": "ProgressStyleModel",
          "state": {
            "_view_name": "StyleView",
            "_model_name": "ProgressStyleModel",
            "description_width": "initial",
            "_view_module": "@jupyter-widgets/base",
            "_model_module_version": "1.5.0",
            "_view_count": null,
            "_view_module_version": "1.2.0",
            "bar_color": null,
            "_model_module": "@jupyter-widgets/controls"
          }
        },
        "033e17d762134a05acef77e6e3bbc519": {
          "model_module": "@jupyter-widgets/base",
          "model_name": "LayoutModel",
          "state": {
            "_view_name": "LayoutView",
            "grid_template_rows": null,
            "right": null,
            "justify_content": null,
            "_view_module": "@jupyter-widgets/base",
            "overflow": null,
            "_model_module_version": "1.2.0",
            "_view_count": null,
            "flex_flow": null,
            "width": null,
            "min_width": null,
            "border": null,
            "align_items": null,
            "bottom": null,
            "_model_module": "@jupyter-widgets/base",
            "top": null,
            "grid_column": null,
            "overflow_y": null,
            "overflow_x": null,
            "grid_auto_flow": null,
            "grid_area": null,
            "grid_template_columns": null,
            "flex": null,
            "_model_name": "LayoutModel",
            "justify_items": null,
            "grid_row": null,
            "max_height": null,
            "align_content": null,
            "visibility": null,
            "align_self": null,
            "height": null,
            "min_height": null,
            "padding": null,
            "grid_auto_rows": null,
            "grid_gap": null,
            "max_width": null,
            "order": null,
            "_view_module_version": "1.2.0",
            "grid_template_areas": null,
            "object_position": null,
            "object_fit": null,
            "grid_auto_columns": null,
            "margin": null,
            "display": null,
            "left": null
          }
        },
        "51e2286042ef4245be7e44f5c3cd6af4": {
          "model_module": "@jupyter-widgets/controls",
          "model_name": "DescriptionStyleModel",
          "state": {
            "_view_name": "StyleView",
            "_model_name": "DescriptionStyleModel",
            "description_width": "",
            "_view_module": "@jupyter-widgets/base",
            "_model_module_version": "1.5.0",
            "_view_count": null,
            "_view_module_version": "1.2.0",
            "_model_module": "@jupyter-widgets/controls"
          }
        },
        "b721767f41634cf599c96a1ba4db59fc": {
          "model_module": "@jupyter-widgets/base",
          "model_name": "LayoutModel",
          "state": {
            "_view_name": "LayoutView",
            "grid_template_rows": null,
            "right": null,
            "justify_content": null,
            "_view_module": "@jupyter-widgets/base",
            "overflow": null,
            "_model_module_version": "1.2.0",
            "_view_count": null,
            "flex_flow": null,
            "width": null,
            "min_width": null,
            "border": null,
            "align_items": null,
            "bottom": null,
            "_model_module": "@jupyter-widgets/base",
            "top": null,
            "grid_column": null,
            "overflow_y": null,
            "overflow_x": null,
            "grid_auto_flow": null,
            "grid_area": null,
            "grid_template_columns": null,
            "flex": null,
            "_model_name": "LayoutModel",
            "justify_items": null,
            "grid_row": null,
            "max_height": null,
            "align_content": null,
            "visibility": null,
            "align_self": null,
            "height": null,
            "min_height": null,
            "padding": null,
            "grid_auto_rows": null,
            "grid_gap": null,
            "max_width": null,
            "order": null,
            "_view_module_version": "1.2.0",
            "grid_template_areas": null,
            "object_position": null,
            "object_fit": null,
            "grid_auto_columns": null,
            "margin": null,
            "display": null,
            "left": null
          }
        }
      }
    }
  },
  "cells": [
    {
      "cell_type": "markdown",
      "metadata": {
        "id": "Jdm1mKyu26TJ"
      },
      "source": [
        "**Question Answering module is designed using Base-Bert-Squad2, HuggingFace pre-trained model published by Deepset.ai** "
      ]
    },
    {
      "cell_type": "markdown",
      "metadata": {
        "id": "AhwctKd73MyH"
      },
      "source": [
        "***Install transformers***"
      ]
    },
    {
      "cell_type": "code",
      "metadata": {
        "colab": {
          "base_uri": "https://localhost:8080/"
        },
        "id": "TsgdI4AqxDUO",
        "outputId": "ef64043d-2021-48ed-acde-5428fe589142"
      },
      "source": [
        "!pip install transformers"
      ],
      "execution_count": null,
      "outputs": [
        {
          "output_type": "stream",
          "text": [
            "Collecting transformers\n",
            "\u001b[?25l  Downloading https://files.pythonhosted.org/packages/ed/d5/f4157a376b8a79489a76ce6cfe147f4f3be1e029b7144fa7b8432e8acb26/transformers-4.4.2-py3-none-any.whl (2.0MB)\n",
            "\r\u001b[K     |▏                               | 10kB 17.8MB/s eta 0:00:01\r\u001b[K     |▎                               | 20kB 24.5MB/s eta 0:00:01\r\u001b[K     |▌                               | 30kB 29.0MB/s eta 0:00:01\r\u001b[K     |▋                               | 40kB 25.0MB/s eta 0:00:01\r\u001b[K     |▉                               | 51kB 26.2MB/s eta 0:00:01\r\u001b[K     |█                               | 61kB 21.7MB/s eta 0:00:01\r\u001b[K     |█▏                              | 71kB 21.6MB/s eta 0:00:01\r\u001b[K     |█▎                              | 81kB 18.1MB/s eta 0:00:01\r\u001b[K     |█▌                              | 92kB 18.0MB/s eta 0:00:01\r\u001b[K     |█▋                              | 102kB 19.2MB/s eta 0:00:01\r\u001b[K     |█▉                              | 112kB 19.2MB/s eta 0:00:01\r\u001b[K     |██                              | 122kB 19.2MB/s eta 0:00:01\r\u001b[K     |██▏                             | 133kB 19.2MB/s eta 0:00:01\r\u001b[K     |██▎                             | 143kB 19.2MB/s eta 0:00:01\r\u001b[K     |██▌                             | 153kB 19.2MB/s eta 0:00:01\r\u001b[K     |██▋                             | 163kB 19.2MB/s eta 0:00:01\r\u001b[K     |██▉                             | 174kB 19.2MB/s eta 0:00:01\r\u001b[K     |███                             | 184kB 19.2MB/s eta 0:00:01\r\u001b[K     |███▏                            | 194kB 19.2MB/s eta 0:00:01\r\u001b[K     |███▎                            | 204kB 19.2MB/s eta 0:00:01\r\u001b[K     |███▌                            | 215kB 19.2MB/s eta 0:00:01\r\u001b[K     |███▋                            | 225kB 19.2MB/s eta 0:00:01\r\u001b[K     |███▉                            | 235kB 19.2MB/s eta 0:00:01\r\u001b[K     |████                            | 245kB 19.2MB/s eta 0:00:01\r\u001b[K     |████▏                           | 256kB 19.2MB/s eta 0:00:01\r\u001b[K     |████▎                           | 266kB 19.2MB/s eta 0:00:01\r\u001b[K     |████▌                           | 276kB 19.2MB/s eta 0:00:01\r\u001b[K     |████▋                           | 286kB 19.2MB/s eta 0:00:01\r\u001b[K     |████▉                           | 296kB 19.2MB/s eta 0:00:01\r\u001b[K     |█████                           | 307kB 19.2MB/s eta 0:00:01\r\u001b[K     |█████▏                          | 317kB 19.2MB/s eta 0:00:01\r\u001b[K     |█████▎                          | 327kB 19.2MB/s eta 0:00:01\r\u001b[K     |█████▌                          | 337kB 19.2MB/s eta 0:00:01\r\u001b[K     |█████▋                          | 348kB 19.2MB/s eta 0:00:01\r\u001b[K     |█████▉                          | 358kB 19.2MB/s eta 0:00:01\r\u001b[K     |██████                          | 368kB 19.2MB/s eta 0:00:01\r\u001b[K     |██████▏                         | 378kB 19.2MB/s eta 0:00:01\r\u001b[K     |██████▎                         | 389kB 19.2MB/s eta 0:00:01\r\u001b[K     |██████▌                         | 399kB 19.2MB/s eta 0:00:01\r\u001b[K     |██████▋                         | 409kB 19.2MB/s eta 0:00:01\r\u001b[K     |██████▉                         | 419kB 19.2MB/s eta 0:00:01\r\u001b[K     |███████                         | 430kB 19.2MB/s eta 0:00:01\r\u001b[K     |███████▏                        | 440kB 19.2MB/s eta 0:00:01\r\u001b[K     |███████▎                        | 450kB 19.2MB/s eta 0:00:01\r\u001b[K     |███████▌                        | 460kB 19.2MB/s eta 0:00:01\r\u001b[K     |███████▋                        | 471kB 19.2MB/s eta 0:00:01\r\u001b[K     |███████▉                        | 481kB 19.2MB/s eta 0:00:01\r\u001b[K     |████████                        | 491kB 19.2MB/s eta 0:00:01\r\u001b[K     |████████▏                       | 501kB 19.2MB/s eta 0:00:01\r\u001b[K     |████████▎                       | 512kB 19.2MB/s eta 0:00:01\r\u001b[K     |████████▌                       | 522kB 19.2MB/s eta 0:00:01\r\u001b[K     |████████▋                       | 532kB 19.2MB/s eta 0:00:01\r\u001b[K     |████████▉                       | 542kB 19.2MB/s eta 0:00:01\r\u001b[K     |█████████                       | 552kB 19.2MB/s eta 0:00:01\r\u001b[K     |█████████▏                      | 563kB 19.2MB/s eta 0:00:01\r\u001b[K     |█████████▎                      | 573kB 19.2MB/s eta 0:00:01\r\u001b[K     |█████████▌                      | 583kB 19.2MB/s eta 0:00:01\r\u001b[K     |█████████▋                      | 593kB 19.2MB/s eta 0:00:01\r\u001b[K     |█████████▉                      | 604kB 19.2MB/s eta 0:00:01\r\u001b[K     |██████████                      | 614kB 19.2MB/s eta 0:00:01\r\u001b[K     |██████████▏                     | 624kB 19.2MB/s eta 0:00:01\r\u001b[K     |██████████▎                     | 634kB 19.2MB/s eta 0:00:01\r\u001b[K     |██████████▌                     | 645kB 19.2MB/s eta 0:00:01\r\u001b[K     |██████████▋                     | 655kB 19.2MB/s eta 0:00:01\r\u001b[K     |██████████▉                     | 665kB 19.2MB/s eta 0:00:01\r\u001b[K     |███████████                     | 675kB 19.2MB/s eta 0:00:01\r\u001b[K     |███████████▏                    | 686kB 19.2MB/s eta 0:00:01\r\u001b[K     |███████████▎                    | 696kB 19.2MB/s eta 0:00:01\r\u001b[K     |███████████▌                    | 706kB 19.2MB/s eta 0:00:01\r\u001b[K     |███████████▋                    | 716kB 19.2MB/s eta 0:00:01\r\u001b[K     |███████████▉                    | 727kB 19.2MB/s eta 0:00:01\r\u001b[K     |████████████                    | 737kB 19.2MB/s eta 0:00:01\r\u001b[K     |████████████▏                   | 747kB 19.2MB/s eta 0:00:01\r\u001b[K     |████████████▎                   | 757kB 19.2MB/s eta 0:00:01\r\u001b[K     |████████████▌                   | 768kB 19.2MB/s eta 0:00:01\r\u001b[K     |████████████▋                   | 778kB 19.2MB/s eta 0:00:01\r\u001b[K     |████████████▉                   | 788kB 19.2MB/s eta 0:00:01\r\u001b[K     |█████████████                   | 798kB 19.2MB/s eta 0:00:01\r\u001b[K     |█████████████▏                  | 808kB 19.2MB/s eta 0:00:01\r\u001b[K     |█████████████▎                  | 819kB 19.2MB/s eta 0:00:01\r\u001b[K     |█████████████▌                  | 829kB 19.2MB/s eta 0:00:01\r\u001b[K     |█████████████▋                  | 839kB 19.2MB/s eta 0:00:01\r\u001b[K     |█████████████▉                  | 849kB 19.2MB/s eta 0:00:01\r\u001b[K     |██████████████                  | 860kB 19.2MB/s eta 0:00:01\r\u001b[K     |██████████████▏                 | 870kB 19.2MB/s eta 0:00:01\r\u001b[K     |██████████████▎                 | 880kB 19.2MB/s eta 0:00:01\r\u001b[K     |██████████████▌                 | 890kB 19.2MB/s eta 0:00:01\r\u001b[K     |██████████████▋                 | 901kB 19.2MB/s eta 0:00:01\r\u001b[K     |██████████████▊                 | 911kB 19.2MB/s eta 0:00:01\r\u001b[K     |███████████████                 | 921kB 19.2MB/s eta 0:00:01\r\u001b[K     |███████████████                 | 931kB 19.2MB/s eta 0:00:01\r\u001b[K     |███████████████▎                | 942kB 19.2MB/s eta 0:00:01\r\u001b[K     |███████████████▍                | 952kB 19.2MB/s eta 0:00:01\r\u001b[K     |███████████████▋                | 962kB 19.2MB/s eta 0:00:01\r\u001b[K     |███████████████▊                | 972kB 19.2MB/s eta 0:00:01\r\u001b[K     |████████████████                | 983kB 19.2MB/s eta 0:00:01\r\u001b[K     |████████████████                | 993kB 19.2MB/s eta 0:00:01\r\u001b[K     |████████████████▎               | 1.0MB 19.2MB/s eta 0:00:01\r\u001b[K     |████████████████▍               | 1.0MB 19.2MB/s eta 0:00:01\r\u001b[K     |████████████████▋               | 1.0MB 19.2MB/s eta 0:00:01\r\u001b[K     |████████████████▊               | 1.0MB 19.2MB/s eta 0:00:01\r\u001b[K     |█████████████████               | 1.0MB 19.2MB/s eta 0:00:01\r\u001b[K     |█████████████████               | 1.1MB 19.2MB/s eta 0:00:01\r\u001b[K     |█████████████████▎              | 1.1MB 19.2MB/s eta 0:00:01\r\u001b[K     |█████████████████▍              | 1.1MB 19.2MB/s eta 0:00:01\r\u001b[K     |█████████████████▋              | 1.1MB 19.2MB/s eta 0:00:01\r\u001b[K     |█████████████████▊              | 1.1MB 19.2MB/s eta 0:00:01\r\u001b[K     |██████████████████              | 1.1MB 19.2MB/s eta 0:00:01\r\u001b[K     |██████████████████              | 1.1MB 19.2MB/s eta 0:00:01\r\u001b[K     |██████████████████▎             | 1.1MB 19.2MB/s eta 0:00:01\r\u001b[K     |██████████████████▍             | 1.1MB 19.2MB/s eta 0:00:01\r\u001b[K     |██████████████████▋             | 1.1MB 19.2MB/s eta 0:00:01\r\u001b[K     |██████████████████▊             | 1.2MB 19.2MB/s eta 0:00:01\r\u001b[K     |███████████████████             | 1.2MB 19.2MB/s eta 0:00:01\r\u001b[K     |███████████████████             | 1.2MB 19.2MB/s eta 0:00:01\r\u001b[K     |███████████████████▎            | 1.2MB 19.2MB/s eta 0:00:01\r\u001b[K     |███████████████████▍            | 1.2MB 19.2MB/s eta 0:00:01\r\u001b[K     |███████████████████▋            | 1.2MB 19.2MB/s eta 0:00:01\r\u001b[K     |███████████████████▊            | 1.2MB 19.2MB/s eta 0:00:01\r\u001b[K     |████████████████████            | 1.2MB 19.2MB/s eta 0:00:01\r\u001b[K     |████████████████████            | 1.2MB 19.2MB/s eta 0:00:01\r\u001b[K     |████████████████████▎           | 1.2MB 19.2MB/s eta 0:00:01\r\u001b[K     |████████████████████▍           | 1.3MB 19.2MB/s eta 0:00:01\r\u001b[K     |████████████████████▋           | 1.3MB 19.2MB/s eta 0:00:01\r\u001b[K     |████████████████████▊           | 1.3MB 19.2MB/s eta 0:00:01\r\u001b[K     |█████████████████████           | 1.3MB 19.2MB/s eta 0:00:01\r\u001b[K     |█████████████████████           | 1.3MB 19.2MB/s eta 0:00:01\r\u001b[K     |█████████████████████▎          | 1.3MB 19.2MB/s eta 0:00:01\r\u001b[K     |█████████████████████▍          | 1.3MB 19.2MB/s eta 0:00:01\r\u001b[K     |█████████████████████▋          | 1.3MB 19.2MB/s eta 0:00:01\r\u001b[K     |█████████████████████▊          | 1.3MB 19.2MB/s eta 0:00:01\r\u001b[K     |██████████████████████          | 1.4MB 19.2MB/s eta 0:00:01\r\u001b[K     |██████████████████████          | 1.4MB 19.2MB/s eta 0:00:01\r\u001b[K     |██████████████████████▎         | 1.4MB 19.2MB/s eta 0:00:01\r\u001b[K     |██████████████████████▍         | 1.4MB 19.2MB/s eta 0:00:01\r\u001b[K     |██████████████████████▋         | 1.4MB 19.2MB/s eta 0:00:01\r\u001b[K     |██████████████████████▊         | 1.4MB 19.2MB/s eta 0:00:01\r\u001b[K     |███████████████████████         | 1.4MB 19.2MB/s eta 0:00:01\r\u001b[K     |███████████████████████         | 1.4MB 19.2MB/s eta 0:00:01\r\u001b[K     |███████████████████████▎        | 1.4MB 19.2MB/s eta 0:00:01\r\u001b[K     |███████████████████████▍        | 1.4MB 19.2MB/s eta 0:00:01\r\u001b[K     |███████████████████████▋        | 1.5MB 19.2MB/s eta 0:00:01\r\u001b[K     |███████████████████████▊        | 1.5MB 19.2MB/s eta 0:00:01\r\u001b[K     |████████████████████████        | 1.5MB 19.2MB/s eta 0:00:01\r\u001b[K     |████████████████████████        | 1.5MB 19.2MB/s eta 0:00:01\r\u001b[K     |████████████████████████▎       | 1.5MB 19.2MB/s eta 0:00:01\r\u001b[K     |████████████████████████▍       | 1.5MB 19.2MB/s eta 0:00:01\r\u001b[K     |████████████████████████▋       | 1.5MB 19.2MB/s eta 0:00:01\r\u001b[K     |████████████████████████▊       | 1.5MB 19.2MB/s eta 0:00:01\r\u001b[K     |█████████████████████████       | 1.5MB 19.2MB/s eta 0:00:01\r\u001b[K     |█████████████████████████       | 1.5MB 19.2MB/s eta 0:00:01\r\u001b[K     |█████████████████████████▎      | 1.6MB 19.2MB/s eta 0:00:01\r\u001b[K     |█████████████████████████▍      | 1.6MB 19.2MB/s eta 0:00:01\r\u001b[K     |█████████████████████████▋      | 1.6MB 19.2MB/s eta 0:00:01\r\u001b[K     |█████████████████████████▊      | 1.6MB 19.2MB/s eta 0:00:01\r\u001b[K     |██████████████████████████      | 1.6MB 19.2MB/s eta 0:00:01\r\u001b[K     |██████████████████████████      | 1.6MB 19.2MB/s eta 0:00:01\r\u001b[K     |██████████████████████████▎     | 1.6MB 19.2MB/s eta 0:00:01\r\u001b[K     |██████████████████████████▍     | 1.6MB 19.2MB/s eta 0:00:01\r\u001b[K     |██████████████████████████▋     | 1.6MB 19.2MB/s eta 0:00:01\r\u001b[K     |██████████████████████████▊     | 1.6MB 19.2MB/s eta 0:00:01\r\u001b[K     |███████████████████████████     | 1.7MB 19.2MB/s eta 0:00:01\r\u001b[K     |███████████████████████████     | 1.7MB 19.2MB/s eta 0:00:01\r\u001b[K     |███████████████████████████▎    | 1.7MB 19.2MB/s eta 0:00:01\r\u001b[K     |███████████████████████████▍    | 1.7MB 19.2MB/s eta 0:00:01\r\u001b[K     |███████████████████████████▋    | 1.7MB 19.2MB/s eta 0:00:01\r\u001b[K     |███████████████████████████▊    | 1.7MB 19.2MB/s eta 0:00:01\r\u001b[K     |████████████████████████████    | 1.7MB 19.2MB/s eta 0:00:01\r\u001b[K     |████████████████████████████    | 1.7MB 19.2MB/s eta 0:00:01\r\u001b[K     |████████████████████████████▎   | 1.7MB 19.2MB/s eta 0:00:01\r\u001b[K     |████████████████████████████▍   | 1.8MB 19.2MB/s eta 0:00:01\r\u001b[K     |████████████████████████████▋   | 1.8MB 19.2MB/s eta 0:00:01\r\u001b[K     |████████████████████████████▊   | 1.8MB 19.2MB/s eta 0:00:01\r\u001b[K     |█████████████████████████████   | 1.8MB 19.2MB/s eta 0:00:01\r\u001b[K     |█████████████████████████████   | 1.8MB 19.2MB/s eta 0:00:01\r\u001b[K     |█████████████████████████████▎  | 1.8MB 19.2MB/s eta 0:00:01\r\u001b[K     |█████████████████████████████▍  | 1.8MB 19.2MB/s eta 0:00:01\r\u001b[K     |█████████████████████████████▌  | 1.8MB 19.2MB/s eta 0:00:01\r\u001b[K     |█████████████████████████████▊  | 1.8MB 19.2MB/s eta 0:00:01\r\u001b[K     |█████████████████████████████▉  | 1.8MB 19.2MB/s eta 0:00:01\r\u001b[K     |██████████████████████████████  | 1.9MB 19.2MB/s eta 0:00:01\r\u001b[K     |██████████████████████████████▏ | 1.9MB 19.2MB/s eta 0:00:01\r\u001b[K     |██████████████████████████████▍ | 1.9MB 19.2MB/s eta 0:00:01\r\u001b[K     |██████████████████████████████▌ | 1.9MB 19.2MB/s eta 0:00:01\r\u001b[K     |██████████████████████████████▊ | 1.9MB 19.2MB/s eta 0:00:01\r\u001b[K     |██████████████████████████████▉ | 1.9MB 19.2MB/s eta 0:00:01\r\u001b[K     |███████████████████████████████ | 1.9MB 19.2MB/s eta 0:00:01\r\u001b[K     |███████████████████████████████▏| 1.9MB 19.2MB/s eta 0:00:01\r\u001b[K     |███████████████████████████████▍| 1.9MB 19.2MB/s eta 0:00:01\r\u001b[K     |███████████████████████████████▌| 1.9MB 19.2MB/s eta 0:00:01\r\u001b[K     |███████████████████████████████▊| 2.0MB 19.2MB/s eta 0:00:01\r\u001b[K     |███████████████████████████████▉| 2.0MB 19.2MB/s eta 0:00:01\r\u001b[K     |████████████████████████████████| 2.0MB 19.2MB/s \n",
            "\u001b[?25hRequirement already satisfied: filelock in /usr/local/lib/python3.7/dist-packages (from transformers) (3.0.12)\n",
            "Collecting tokenizers<0.11,>=0.10.1\n",
            "\u001b[?25l  Downloading https://files.pythonhosted.org/packages/ae/04/5b870f26a858552025a62f1649c20d29d2672c02ff3c3fb4c688ca46467a/tokenizers-0.10.2-cp37-cp37m-manylinux2010_x86_64.whl (3.3MB)\n",
            "\u001b[K     |████████████████████████████████| 3.3MB 49.5MB/s \n",
            "\u001b[?25hRequirement already satisfied: importlib-metadata; python_version < \"3.8\" in /usr/local/lib/python3.7/dist-packages (from transformers) (3.8.1)\n",
            "Requirement already satisfied: requests in /usr/local/lib/python3.7/dist-packages (from transformers) (2.23.0)\n",
            "Requirement already satisfied: packaging in /usr/local/lib/python3.7/dist-packages (from transformers) (20.9)\n",
            "Requirement already satisfied: numpy>=1.17 in /usr/local/lib/python3.7/dist-packages (from transformers) (1.19.5)\n",
            "Collecting sacremoses\n",
            "\u001b[?25l  Downloading https://files.pythonhosted.org/packages/08/cd/342e584ee544d044fb573ae697404ce22ede086c9e87ce5960772084cad0/sacremoses-0.0.44.tar.gz (862kB)\n",
            "\u001b[K     |████████████████████████████████| 870kB 35.3MB/s \n",
            "\u001b[?25hRequirement already satisfied: regex!=2019.12.17 in /usr/local/lib/python3.7/dist-packages (from transformers) (2019.12.20)\n",
            "Requirement already satisfied: tqdm>=4.27 in /usr/local/lib/python3.7/dist-packages (from transformers) (4.41.1)\n",
            "Requirement already satisfied: typing-extensions>=3.6.4; python_version < \"3.8\" in /usr/local/lib/python3.7/dist-packages (from importlib-metadata; python_version < \"3.8\"->transformers) (3.7.4.3)\n",
            "Requirement already satisfied: zipp>=0.5 in /usr/local/lib/python3.7/dist-packages (from importlib-metadata; python_version < \"3.8\"->transformers) (3.4.1)\n",
            "Requirement already satisfied: idna<3,>=2.5 in /usr/local/lib/python3.7/dist-packages (from requests->transformers) (2.10)\n",
            "Requirement already satisfied: certifi>=2017.4.17 in /usr/local/lib/python3.7/dist-packages (from requests->transformers) (2020.12.5)\n",
            "Requirement already satisfied: urllib3!=1.25.0,!=1.25.1,<1.26,>=1.21.1 in /usr/local/lib/python3.7/dist-packages (from requests->transformers) (1.24.3)\n",
            "Requirement already satisfied: chardet<4,>=3.0.2 in /usr/local/lib/python3.7/dist-packages (from requests->transformers) (3.0.4)\n",
            "Requirement already satisfied: pyparsing>=2.0.2 in /usr/local/lib/python3.7/dist-packages (from packaging->transformers) (2.4.7)\n",
            "Requirement already satisfied: six in /usr/local/lib/python3.7/dist-packages (from sacremoses->transformers) (1.15.0)\n",
            "Requirement already satisfied: click in /usr/local/lib/python3.7/dist-packages (from sacremoses->transformers) (7.1.2)\n",
            "Requirement already satisfied: joblib in /usr/local/lib/python3.7/dist-packages (from sacremoses->transformers) (1.0.1)\n",
            "Building wheels for collected packages: sacremoses\n",
            "  Building wheel for sacremoses (setup.py) ... \u001b[?25l\u001b[?25hdone\n",
            "  Created wheel for sacremoses: filename=sacremoses-0.0.44-cp37-none-any.whl size=886084 sha256=e11774e50f638f3566b90e1589719afb3759c0e0424e5f617048da8b947af2e1\n",
            "  Stored in directory: /root/.cache/pip/wheels/3e/fb/c0/13ab4d63d537658f448366744654323077c4d90069b6512f3c\n",
            "Successfully built sacremoses\n",
            "Installing collected packages: tokenizers, sacremoses, transformers\n",
            "Successfully installed sacremoses-0.0.44 tokenizers-0.10.2 transformers-4.4.2\n"
          ],
          "name": "stdout"
        }
      ]
    },
    {
      "cell_type": "markdown",
      "metadata": {
        "id": "Ml-hCVn93W-o"
      },
      "source": [
        "***Install tensorflow***"
      ]
    },
    {
      "cell_type": "code",
      "metadata": {
        "colab": {
          "base_uri": "https://localhost:8080/"
        },
        "id": "r0q7EE7xxMmU",
        "outputId": "c7de4a38-8338-4142-f8ea-0937f59a6648"
      },
      "source": [
        "!pip install tensorflow"
      ],
      "execution_count": null,
      "outputs": [
        {
          "output_type": "stream",
          "text": [
            "Requirement already satisfied: tensorflow in /usr/local/lib/python3.7/dist-packages (2.4.1)\n",
            "Requirement already satisfied: wrapt~=1.12.1 in /usr/local/lib/python3.7/dist-packages (from tensorflow) (1.12.1)\n",
            "Requirement already satisfied: protobuf>=3.9.2 in /usr/local/lib/python3.7/dist-packages (from tensorflow) (3.12.4)\n",
            "Requirement already satisfied: astunparse~=1.6.3 in /usr/local/lib/python3.7/dist-packages (from tensorflow) (1.6.3)\n",
            "Requirement already satisfied: termcolor~=1.1.0 in /usr/local/lib/python3.7/dist-packages (from tensorflow) (1.1.0)\n",
            "Requirement already satisfied: wheel~=0.35 in /usr/local/lib/python3.7/dist-packages (from tensorflow) (0.36.2)\n",
            "Requirement already satisfied: tensorboard~=2.4 in /usr/local/lib/python3.7/dist-packages (from tensorflow) (2.4.1)\n",
            "Requirement already satisfied: six~=1.15.0 in /usr/local/lib/python3.7/dist-packages (from tensorflow) (1.15.0)\n",
            "Requirement already satisfied: typing-extensions~=3.7.4 in /usr/local/lib/python3.7/dist-packages (from tensorflow) (3.7.4.3)\n",
            "Requirement already satisfied: google-pasta~=0.2 in /usr/local/lib/python3.7/dist-packages (from tensorflow) (0.2.0)\n",
            "Requirement already satisfied: gast==0.3.3 in /usr/local/lib/python3.7/dist-packages (from tensorflow) (0.3.3)\n",
            "Requirement already satisfied: h5py~=2.10.0 in /usr/local/lib/python3.7/dist-packages (from tensorflow) (2.10.0)\n",
            "Requirement already satisfied: tensorflow-estimator<2.5.0,>=2.4.0 in /usr/local/lib/python3.7/dist-packages (from tensorflow) (2.4.0)\n",
            "Requirement already satisfied: grpcio~=1.32.0 in /usr/local/lib/python3.7/dist-packages (from tensorflow) (1.32.0)\n",
            "Requirement already satisfied: absl-py~=0.10 in /usr/local/lib/python3.7/dist-packages (from tensorflow) (0.12.0)\n",
            "Requirement already satisfied: numpy~=1.19.2 in /usr/local/lib/python3.7/dist-packages (from tensorflow) (1.19.5)\n",
            "Requirement already satisfied: flatbuffers~=1.12.0 in /usr/local/lib/python3.7/dist-packages (from tensorflow) (1.12)\n",
            "Requirement already satisfied: keras-preprocessing~=1.1.2 in /usr/local/lib/python3.7/dist-packages (from tensorflow) (1.1.2)\n",
            "Requirement already satisfied: opt-einsum~=3.3.0 in /usr/local/lib/python3.7/dist-packages (from tensorflow) (3.3.0)\n",
            "Requirement already satisfied: setuptools in /usr/local/lib/python3.7/dist-packages (from protobuf>=3.9.2->tensorflow) (54.2.0)\n",
            "Requirement already satisfied: google-auth<2,>=1.6.3 in /usr/local/lib/python3.7/dist-packages (from tensorboard~=2.4->tensorflow) (1.28.0)\n",
            "Requirement already satisfied: google-auth-oauthlib<0.5,>=0.4.1 in /usr/local/lib/python3.7/dist-packages (from tensorboard~=2.4->tensorflow) (0.4.3)\n",
            "Requirement already satisfied: tensorboard-plugin-wit>=1.6.0 in /usr/local/lib/python3.7/dist-packages (from tensorboard~=2.4->tensorflow) (1.8.0)\n",
            "Requirement already satisfied: markdown>=2.6.8 in /usr/local/lib/python3.7/dist-packages (from tensorboard~=2.4->tensorflow) (3.3.4)\n",
            "Requirement already satisfied: requests<3,>=2.21.0 in /usr/local/lib/python3.7/dist-packages (from tensorboard~=2.4->tensorflow) (2.23.0)\n",
            "Requirement already satisfied: werkzeug>=0.11.15 in /usr/local/lib/python3.7/dist-packages (from tensorboard~=2.4->tensorflow) (1.0.1)\n",
            "Requirement already satisfied: cachetools<5.0,>=2.0.0 in /usr/local/lib/python3.7/dist-packages (from google-auth<2,>=1.6.3->tensorboard~=2.4->tensorflow) (4.2.1)\n",
            "Requirement already satisfied: pyasn1-modules>=0.2.1 in /usr/local/lib/python3.7/dist-packages (from google-auth<2,>=1.6.3->tensorboard~=2.4->tensorflow) (0.2.8)\n",
            "Requirement already satisfied: rsa<5,>=3.1.4; python_version >= \"3.6\" in /usr/local/lib/python3.7/dist-packages (from google-auth<2,>=1.6.3->tensorboard~=2.4->tensorflow) (4.7.2)\n",
            "Requirement already satisfied: requests-oauthlib>=0.7.0 in /usr/local/lib/python3.7/dist-packages (from google-auth-oauthlib<0.5,>=0.4.1->tensorboard~=2.4->tensorflow) (1.3.0)\n",
            "Requirement already satisfied: importlib-metadata; python_version < \"3.8\" in /usr/local/lib/python3.7/dist-packages (from markdown>=2.6.8->tensorboard~=2.4->tensorflow) (3.8.1)\n",
            "Requirement already satisfied: urllib3!=1.25.0,!=1.25.1,<1.26,>=1.21.1 in /usr/local/lib/python3.7/dist-packages (from requests<3,>=2.21.0->tensorboard~=2.4->tensorflow) (1.24.3)\n",
            "Requirement already satisfied: chardet<4,>=3.0.2 in /usr/local/lib/python3.7/dist-packages (from requests<3,>=2.21.0->tensorboard~=2.4->tensorflow) (3.0.4)\n",
            "Requirement already satisfied: certifi>=2017.4.17 in /usr/local/lib/python3.7/dist-packages (from requests<3,>=2.21.0->tensorboard~=2.4->tensorflow) (2020.12.5)\n",
            "Requirement already satisfied: idna<3,>=2.5 in /usr/local/lib/python3.7/dist-packages (from requests<3,>=2.21.0->tensorboard~=2.4->tensorflow) (2.10)\n",
            "Requirement already satisfied: pyasn1<0.5.0,>=0.4.6 in /usr/local/lib/python3.7/dist-packages (from pyasn1-modules>=0.2.1->google-auth<2,>=1.6.3->tensorboard~=2.4->tensorflow) (0.4.8)\n",
            "Requirement already satisfied: oauthlib>=3.0.0 in /usr/local/lib/python3.7/dist-packages (from requests-oauthlib>=0.7.0->google-auth-oauthlib<0.5,>=0.4.1->tensorboard~=2.4->tensorflow) (3.1.0)\n",
            "Requirement already satisfied: zipp>=0.5 in /usr/local/lib/python3.7/dist-packages (from importlib-metadata; python_version < \"3.8\"->markdown>=2.6.8->tensorboard~=2.4->tensorflow) (3.4.1)\n"
          ],
          "name": "stdout"
        }
      ]
    },
    {
      "cell_type": "markdown",
      "metadata": {
        "id": "fvIoG39j3sKU"
      },
      "source": [
        "***Install Pytorch***"
      ]
    },
    {
      "cell_type": "code",
      "metadata": {
        "colab": {
          "base_uri": "https://localhost:8080/"
        },
        "id": "YhWAgReCxWfD",
        "outputId": "fdabd22d-1e75-49c4-b44d-a1cbbf113fb0"
      },
      "source": [
        "!pip install torch==1.8.1+cu102 torchvision==0.9.1+cu102 torchaudio===0.8.1 -f https://download.pytorch.org/whl/torch_stable.html"
      ],
      "execution_count": null,
      "outputs": [
        {
          "output_type": "stream",
          "text": [
            "Looking in links: https://download.pytorch.org/whl/torch_stable.html\n",
            "Collecting torch==1.8.1+cu102\n",
            "\u001b[?25l  Downloading https://download.pytorch.org/whl/cu102/torch-1.8.1%2Bcu102-cp37-cp37m-linux_x86_64.whl (804.1MB)\n",
            "\u001b[K     |████████████████████████████████| 804.1MB 22kB/s \n",
            "\u001b[?25hCollecting torchvision==0.9.1+cu102\n",
            "\u001b[?25l  Downloading https://download.pytorch.org/whl/cu102/torchvision-0.9.1%2Bcu102-cp37-cp37m-linux_x86_64.whl (17.3MB)\n",
            "\u001b[K     |████████████████████████████████| 17.3MB 234kB/s \n",
            "\u001b[33mWARNING: Retrying (Retry(total=4, connect=None, read=None, redirect=None, status=None)) after connection broken by 'ProtocolError('Connection aborted.', ConnectionResetError(104, 'Connection reset by peer'))': /simple/torchaudio/\u001b[0m\n",
            "\u001b[?25hCollecting torchaudio===0.8.1\n",
            "\u001b[?25l  Downloading https://files.pythonhosted.org/packages/aa/55/01ad9244bcd595e39cea5ce30726a7fe02fd963d07daeb136bfe7e23f0a5/torchaudio-0.8.1-cp37-cp37m-manylinux1_x86_64.whl (1.9MB)\n",
            "\u001b[K     |████████████████████████████████| 1.9MB 19.3MB/s \n",
            "\u001b[?25hRequirement already satisfied: numpy in /usr/local/lib/python3.7/dist-packages (from torch==1.8.1+cu102) (1.19.5)\n",
            "Requirement already satisfied: typing-extensions in /usr/local/lib/python3.7/dist-packages (from torch==1.8.1+cu102) (3.7.4.3)\n",
            "Requirement already satisfied: pillow>=4.1.1 in /usr/local/lib/python3.7/dist-packages (from torchvision==0.9.1+cu102) (7.1.2)\n",
            "Installing collected packages: torch, torchvision, torchaudio\n",
            "  Found existing installation: torch 1.8.1+cu101\n",
            "    Uninstalling torch-1.8.1+cu101:\n",
            "      Successfully uninstalled torch-1.8.1+cu101\n",
            "  Found existing installation: torchvision 0.9.1+cu101\n",
            "    Uninstalling torchvision-0.9.1+cu101:\n",
            "      Successfully uninstalled torchvision-0.9.1+cu101\n",
            "Successfully installed torch-1.8.1+cu102 torchaudio-0.8.1 torchvision-0.9.1+cu102\n"
          ],
          "name": "stdout"
        }
      ]
    },
    {
      "cell_type": "markdown",
      "metadata": {
        "id": "mi_4XbPp30yf"
      },
      "source": [
        "***Initialize model and tokenizer***"
      ]
    },
    {
      "cell_type": "code",
      "metadata": {
        "id": "8tBftOnKxsj6"
      },
      "source": [
        "from transformers import BertForQuestionAnswering, AutoTokenizer"
      ],
      "execution_count": null,
      "outputs": []
    },
    {
      "cell_type": "code",
      "metadata": {
        "colab": {
          "base_uri": "https://localhost:8080/",
          "height": 262,
          "referenced_widgets": [
            "41a86957abfd434fafad344337e5c30d",
            "7648d0c6534c42cba9adfa04e913d06a",
            "29928838719a4c9ba1b8b201f9adbe8d",
            "293b9475c07a4654af24a2647a0a9545",
            "1cc1d3241bfe4d89a90f53a63121f893",
            "cbe81fbceabb4a179f91eed70eca1955",
            "659c1515cb9745859bb1d5f717d82008",
            "9da673631d8247cf85ed14733693fe7f",
            "1c1b75c5b2dc49b2922550c9b8fffc4e",
            "81cc000ca5eb4642b91d670be203c77c",
            "560cf62124014d60b48fd4664a99d0bd",
            "fbe63a2cfa604e3eb60c7c77c6d8c25b",
            "86ac152d89d8492fa03255cf13889b50",
            "70b46c3e0bf743e384786b6d88c96f72",
            "7675f64f37ef451c8f400d82d730608f",
            "4047bae6f0d14c558d15264a2e38f241",
            "dd758a9aa190484bb7ff2cec5c728847",
            "b62b0b09169b41e0b17ee69e1e840c48",
            "b430a98898ea45f68a0e9c5fb6fe5c5a",
            "430ba1df21394de0859f3671c5543c13",
            "b9919d4788364066bc75f4871b4faade",
            "65122ddd732a4a3f8e7d3e560989b8d6",
            "08bafab8367b4521b4d6cc1a44f5713f",
            "f60286a56a3d43e4aa546d544bc0a4f8",
            "eb10dc713dc943e585f635bce3ae3622",
            "7ed1ea5364b14a91a4825cc13001ff95",
            "775e699028b045ada119fd380d22b052",
            "83234136bbe142beb64489fddde04b98",
            "e78df8bdb814407f9b94bc5ea5469a37",
            "3955a8c8b9934253a560495854f71985",
            "2c172f229955492f9c102e3c4cb446bd",
            "3205be2b20a54394a54601e028d2ba7f",
            "f27d47d973b245a1873fa14841a38763",
            "14f14abb41e64da293261d6c484ad766",
            "a8c03402c56841bcb4ed91b25104f212",
            "676fd33da1ca440c901513d80b2f8cd3",
            "9cd65ff24b844ba8a564274c9830aa76",
            "033e17d762134a05acef77e6e3bbc519",
            "51e2286042ef4245be7e44f5c3cd6af4",
            "b721767f41634cf599c96a1ba4db59fc"
          ]
        },
        "id": "UmZzZLmtypE9",
        "outputId": "cefdcdca-fa84-4f60-fa8f-f0ccb7afce10"
      },
      "source": [
        "modelname = 'deepset/bert-base-cased-squad2'\n",
        "\n",
        "model = BertForQuestionAnswering.from_pretrained(modelname)\n",
        "tokenizer = AutoTokenizer.from_pretrained(modelname)"
      ],
      "execution_count": null,
      "outputs": [
        {
          "output_type": "display_data",
          "data": {
            "application/vnd.jupyter.widget-view+json": {
              "model_id": "41a86957abfd434fafad344337e5c30d",
              "version_minor": 0,
              "version_major": 2
            },
            "text/plain": [
              "HBox(children=(FloatProgress(value=0.0, description='Downloading', max=508.0, style=ProgressStyle(description_…"
            ]
          },
          "metadata": {
            "tags": []
          }
        },
        {
          "output_type": "stream",
          "text": [
            "\n"
          ],
          "name": "stdout"
        },
        {
          "output_type": "display_data",
          "data": {
            "application/vnd.jupyter.widget-view+json": {
              "model_id": "1c1b75c5b2dc49b2922550c9b8fffc4e",
              "version_minor": 0,
              "version_major": 2
            },
            "text/plain": [
              "HBox(children=(FloatProgress(value=0.0, description='Downloading', max=433294681.0, style=ProgressStyle(descri…"
            ]
          },
          "metadata": {
            "tags": []
          }
        },
        {
          "output_type": "stream",
          "text": [
            "\n"
          ],
          "name": "stdout"
        },
        {
          "output_type": "display_data",
          "data": {
            "application/vnd.jupyter.widget-view+json": {
              "model_id": "dd758a9aa190484bb7ff2cec5c728847",
              "version_minor": 0,
              "version_major": 2
            },
            "text/plain": [
              "HBox(children=(FloatProgress(value=0.0, description='Downloading', max=213450.0, style=ProgressStyle(descripti…"
            ]
          },
          "metadata": {
            "tags": []
          }
        },
        {
          "output_type": "stream",
          "text": [
            "\n"
          ],
          "name": "stdout"
        },
        {
          "output_type": "display_data",
          "data": {
            "application/vnd.jupyter.widget-view+json": {
              "model_id": "eb10dc713dc943e585f635bce3ae3622",
              "version_minor": 0,
              "version_major": 2
            },
            "text/plain": [
              "HBox(children=(FloatProgress(value=0.0, description='Downloading', max=112.0, style=ProgressStyle(description_…"
            ]
          },
          "metadata": {
            "tags": []
          }
        },
        {
          "output_type": "stream",
          "text": [
            "\n"
          ],
          "name": "stdout"
        },
        {
          "output_type": "display_data",
          "data": {
            "application/vnd.jupyter.widget-view+json": {
              "model_id": "f27d47d973b245a1873fa14841a38763",
              "version_minor": 0,
              "version_major": 2
            },
            "text/plain": [
              "HBox(children=(FloatProgress(value=0.0, description='Downloading', max=152.0, style=ProgressStyle(description_…"
            ]
          },
          "metadata": {
            "tags": []
          }
        },
        {
          "output_type": "stream",
          "text": [
            "\n"
          ],
          "name": "stdout"
        }
      ]
    },
    {
      "cell_type": "markdown",
      "metadata": {
        "id": "2NFL4UQt367R"
      },
      "source": [
        "***Create pipeline and prediction***"
      ]
    },
    {
      "cell_type": "code",
      "metadata": {
        "id": "nB5Tx0QTy2bd"
      },
      "source": [
        "from transformers import pipeline\n",
        "nlp = pipeline('question-answering', model=model, tokenizer=tokenizer)"
      ],
      "execution_count": null,
      "outputs": []
    },
    {
      "cell_type": "code",
      "metadata": {
        "colab": {
          "base_uri": "https://localhost:8080/"
        },
        "id": "U4sARmQ7z0Sz",
        "outputId": "85fdf826-8692-427d-884d-7325a993831c"
      },
      "source": [
        "context = \"The Intergovernmental Panel on Climate Change (IPCC) is a scientific intergovernmental body under the auspices of the United Nations, set up at the request of member governments. It was first established in 1988 by two United Nations organizations, the World Meteorological Organization (WMO) and the United Nations Environment Programme (UNEP), and later endorsed by the United Nations General Assembly through Resolution 43/53. Membership of the IPCC is open to all members of the WMO and UNEP. The IPCC produces reports that support the United Nations Framework Convention on Climate Change (UNFCCC), which is the main international treaty on climate change. The ultimate objective of the UNFCCC is to \\\"stabilize greenhouse gas concentrations in the atmosphere at a level that would prevent dangerous anthropogenic [i.e., human-induced] interference with the climate system\\\". IPCC reports cover \\\"the scientific, technical and socio-economic information relevant to understanding the scientific basis of risk of human-induced climate change, its potential impacts and options for adaptation and mitigation.\\\"\"\n",
        "\n",
        "nlp({\n",
        "    'question': 'What organization is the IPCC a part of?',\n",
        "    'context': context\n",
        "})"
      ],
      "execution_count": null,
      "outputs": [
        {
          "output_type": "execute_result",
          "data": {
            "text/plain": [
              "{'answer': 'United Nations',\n",
              " 'end': 132,\n",
              " 'score': 0.48815783858299255,\n",
              " 'start': 118}"
            ]
          },
          "metadata": {
            "tags": []
          },
          "execution_count": 7
        }
      ]
    },
    {
      "cell_type": "code",
      "metadata": {
        "id": "2eNlCq2V0BOV"
      },
      "source": [
        ""
      ],
      "execution_count": null,
      "outputs": []
    }
  ]
}